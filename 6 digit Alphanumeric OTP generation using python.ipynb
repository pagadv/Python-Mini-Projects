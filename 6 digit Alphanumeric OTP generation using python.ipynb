{
 "cells": [
  {
   "cell_type": "code",
   "execution_count": 27,
   "metadata": {},
   "outputs": [
    {
     "name": "stdout",
     "output_type": "stream",
     "text": [
      "Your One Time Password is  VF0s1M\n"
     ]
    }
   ],
   "source": [
    "# import modules \n",
    "import math as m\n",
    "import random as r\n",
    "  \n",
    "# function to generate OTP \n",
    "def OTPgen() : \n",
    "  \n",
    "    # Declare a string variable   \n",
    "    # which stores all alpha-numeric characters \n",
    "    string = '0123456789abcdefghijklmnopqrstuvwxyzABCDEFGHIJKLMNOPQRSTUVWXYZ'\n",
    "    OTP = \"\" \n",
    "    varlen= len(string) \n",
    "    for i in range(6) : \n",
    "        OTP += string[m.floor(r.random() * varlen)] \n",
    "  \n",
    "    return (OTP) \n",
    "  \n",
    "# main function \n",
    "if __name__ == \"__main__\" : \n",
    "      \n",
    "    print(\"Your One Time Password is \", OTPgen())"
   ]
  }
 ],
 "metadata": {
  "kernelspec": {
   "display_name": "Python 3",
   "language": "python",
   "name": "python3"
  },
  "language_info": {
   "codemirror_mode": {
    "name": "ipython",
    "version": 3
   },
   "file_extension": ".py",
   "mimetype": "text/x-python",
   "name": "python",
   "nbconvert_exporter": "python",
   "pygments_lexer": "ipython3",
   "version": "3.7.3"
  }
 },
 "nbformat": 4,
 "nbformat_minor": 2
}
